{
 "nbformat": 4,
 "nbformat_minor": 2,
 "metadata": {
  "language_info": {
   "name": "python",
   "codemirror_mode": {
    "name": "ipython",
    "version": 3
   },
   "version": "3.7.7-final"
  },
  "orig_nbformat": 2,
  "file_extension": ".py",
  "mimetype": "text/x-python",
  "name": "python",
  "npconvert_exporter": "python",
  "pygments_lexer": "ipython3",
  "version": 3,
  "kernelspec": {
   "name": "python37764bita92eb26ac8df40538fcf6f489f945e12",
   "display_name": "Python 3.7.7 64-bit"
  }
 },
 "cells": [
  {
   "cell_type": "markdown",
   "metadata": {},
   "source": [
    "# Numpy 学习"
   ]
  },
  {
   "cell_type": "code",
   "execution_count": 3,
   "metadata": {},
   "outputs": [],
   "source": [
    "import  numpy as np  # 导入numpy包"
   ]
  },
  {
   "cell_type": "markdown",
   "metadata": {},
   "source": [
    "# 创建矩阵"
   ]
  },
  {
   "cell_type": "code",
   "execution_count": 54,
   "metadata": {},
   "outputs": [],
   "source": [
    "# np.array([1,2,3]) #一维数组\n",
    "# np.array([[1,2,3],[1,2,3]],dtype=np.float32)  #二维数组 ，指定数据类型为 np.float32\n",
    "# np.array([1,2,3,4,5], ndmin=3)    #指定生成数组的最小维度\n",
    "# np.empty([3,2], dtype=np.float32) #创建空矩阵\n",
    "# np.eye(4) #生成对角线为1的矩阵\n",
    "# np.zeros([2,4],dtype=np.float32)  #生成0矩阵\n",
    "# np.ones([2,3],dtype=np.float32)   #生成1矩阵\n",
    "# np.asarray(np.ones([2,3]))    #拷贝矩阵\n",
    "# np.arange(10,20,step=2,dtype=np.float32)  #生成[10,20)区间，步长为2的数组\n",
    ""
   ]
  },
  {
   "cell_type": "markdown",
   "metadata": {},
   "source": [
    "# 矩阵属性"
   ]
  },
  {
   "cell_type": "code",
   "execution_count": 75,
   "metadata": {},
   "outputs": [],
   "source": [
    "a=np.array([[1,2,5,7],[2,54,6,7]])\n",
    "# a.shape  #矩阵行列数\n",
    "# a.reshape(2,-1)   #重置矩阵行列\n",
    "# a.ndim    #矩阵行数\n",
    "# a.size  #矩阵元素的总个数"
   ]
  },
  {
   "cell_type": "markdown",
   "metadata": {},
   "source": [
    "# 矩阵运算"
   ]
  },
  {
   "cell_type": "code",
   "execution_count": 10,
   "metadata": {},
   "outputs": [
    {
     "output_type": "stream",
     "name": "stdout",
     "text": "第一个数组：\n[[0. 1. 2.]]\n\n\n第二个数组：\n[10 10 10]\n两个数组相乘：\n[[ 0. 10. 20.]]\n\n\n[30.]\n\n\n"
    }
   ],
   "source": [
    "a = np.arange(3, dtype = np.float_).reshape(1,3)  \n",
    "print ('第一个数组：')\n",
    "print (a)\n",
    "print ('\\n')\n",
    "print ('第二个数组：')\n",
    "b = np.array([[10,10,10],[10,10,10],[10,10,10]])  \n",
    "print (b)\n",
    "# print ('\\n')\n",
    "# print ('两个数组相加：')\n",
    "# print (np.add(a,b))\n",
    "# print ('\\n')\n",
    "# print ('两个数组相减：')\n",
    "# print (np.subtract(a,b))\n",
    "# print ('\\n')\n",
    "print ('两个数组相乘：')\n",
    "print (np.multiply(a,b))\n",
    "print ('\\n')\n",
    "# print ('两个数组相除：')\n",
    "# print (np.divide(a,b))\n",
    "print(a.dot(b))\n",
    "print ('\\n')\n",
    "# print(np.dot(a,b))\n",
    "# print ('\\n')\n",
    "# print(np.dot(b,a))\n",
    "# print ('\\n')\n",
    "# print(np.matmul(a,b))\n",
    "# print ('\\n')\n",
    "# print(np.multiply(a,b))\n"
   ]
  },
  {
   "cell_type": "code",
   "execution_count": null,
   "metadata": {},
   "outputs": [],
   "source": [
    "type(a)"
   ]
  },
  {
   "cell_type": "code",
   "execution_count": 6,
   "metadata": {},
   "outputs": [
    {
     "output_type": "execute_result",
     "data": {
      "text/plain": "array([1., 1., 1., 1.])"
     },
     "metadata": {},
     "execution_count": 6
    }
   ],
   "source": [
    "b=np.ones(4)\n",
    "b"
   ]
  },
  {
   "cell_type": "code",
   "execution_count": null,
   "metadata": {},
   "outputs": [],
   "source": [
    "a*b"
   ]
  },
  {
   "cell_type": "code",
   "execution_count": null,
   "metadata": {},
   "outputs": [],
   "source": [
    "a+1000"
   ]
  },
  {
   "cell_type": "code",
   "execution_count": 7,
   "metadata": {},
   "outputs": [
    {
     "output_type": "execute_result",
     "data": {
      "text/plain": "array([[ 0., -1., -1., -1.],\n       [-1.,  0., -1., -1.],\n       [-1., -1.,  0., -1.],\n       [-1., -1., -1.,  0.]])"
     },
     "metadata": {},
     "execution_count": 7
    }
   ],
   "source": [
    "c=np.subtract(a,b)\n",
    "c"
   ]
  },
  {
   "cell_type": "code",
   "execution_count": 8,
   "metadata": {},
   "outputs": [
    {
     "output_type": "execute_result",
     "data": {
      "text/plain": "array([[ 0., -1., -1., -1.],\n       [-1.,  0., -1., -1.],\n       [-1., -1.,  0., -1.],\n       [-1., -1., -1.,  0.]])"
     },
     "metadata": {},
     "execution_count": 8
    }
   ],
   "source": [
    "a.dot(c)"
   ]
  },
  {
   "cell_type": "code",
   "execution_count": 17,
   "metadata": {},
   "outputs": [
    {
     "output_type": "execute_result",
     "data": {
      "text/plain": "array([[ 2,  3,  4],\n       [ 4,  5,  6],\n       [ 8,  9, 10]])"
     },
     "metadata": {},
     "execution_count": 17
    }
   ],
   "source": [
    "a=np.array([[1,2,3],[3,4,5],[7,8,9]])\n",
    "b=np.array([[1]])\n",
    "a+b"
   ]
  },
  {
   "cell_type": "code",
   "execution_count": null,
   "metadata": {},
   "outputs": [],
   "source": [
    "np.pi"
   ]
  },
  {
   "cell_type": "code",
   "execution_count": null,
   "metadata": {},
   "outputs": [],
   "source": [
    "a"
   ]
  },
  {
   "cell_type": "code",
   "execution_count": null,
   "metadata": {},
   "outputs": [],
   "source": [
    "a.ndim"
   ]
  },
  {
   "cell_type": "code",
   "execution_count": null,
   "metadata": {},
   "outputs": [],
   "source": [
    "a.shape\n",
    ""
   ]
  },
  {
   "cell_type": "code",
   "execution_count": null,
   "metadata": {},
   "outputs": [],
   "source": [
    "a.size"
   ]
  },
  {
   "cell_type": "code",
   "execution_count": null,
   "metadata": {},
   "outputs": [],
   "source": [
    "a.itemsize"
   ]
  },
  {
   "cell_type": "code",
   "execution_count": null,
   "metadata": {},
   "outputs": [],
   "source": [
    "a.data"
   ]
  },
  {
   "cell_type": "code",
   "execution_count": null,
   "metadata": {},
   "outputs": [],
   "source": [
    "a.dtype"
   ]
  },
  {
   "cell_type": "code",
   "execution_count": null,
   "metadata": {},
   "outputs": [],
   "source": [
    "a[1:2,1:2]=7.8"
   ]
  },
  {
   "cell_type": "code",
   "execution_count": null,
   "metadata": {},
   "outputs": [],
   "source": [
    "a"
   ]
  },
  {
   "cell_type": "code",
   "execution_count": null,
   "metadata": {},
   "outputs": [],
   "source": [
    "a[1:2,2:3]"
   ]
  },
  {
   "cell_type": "code",
   "execution_count": null,
   "metadata": {},
   "outputs": [],
   "source": [
    "dir(np.ndarray)"
   ]
  },
  {
   "cell_type": "code",
   "execution_count": null,
   "metadata": {},
   "outputs": [],
   "source": [
    "np.arange(10,20,0.0000001).size"
   ]
  },
  {
   "cell_type": "code",
   "execution_count": null,
   "metadata": {},
   "outputs": [],
   "source": []
  }
 ]
}