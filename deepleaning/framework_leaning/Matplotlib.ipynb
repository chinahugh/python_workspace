{
 "cells": [
  {
   "cell_type": "code",
   "execution_count": null,
   "metadata": {},
   "outputs": [],
   "source": [
    "import matplotlib.pyplot as plt\n",
    "import numpy as np\n",
    "\n",
    "fig = plt.figure(1)        # 创建了一个figure对象;\n",
    "\n",
    "# figure对象的add_axes()可以在其中创建一个axes对象,\n",
    "# add_axes()的参数为一个形如[left, bottom, width, height]的列表,取值范围在0与1之间;\n",
    "# 我们把它放在了figure图形的上半部分，对应参数分别为：left, bottom, width, height;\n",
    "ax = fig.add_axes([0.1, 0.5, 0.8, 0.5])\n",
    "ax.set_xlabel('x')           # 用axes对象的set_xlabel函数来设置它的xlabel\n",
    "ax.set_ylabel('y')\n",
    "line =ax.plot(range(5))[0]      # 用axes对象的plot()进行绘图,它返回一个Line2D的对象;\n",
    "line.set_color('g')             # 再调用Line2D的对象的set_color函数设置color的属性;\n",
    "plt.show()"
   ]
  },
  {
   "cell_type": "code",
   "execution_count": null,
   "metadata": {},
   "outputs": [],
   "source": [
    "import matplotlib.pyplot as plt\n",
    "import numpy as np\n",
    "\n",
    "x = np.array([[0.,0.],[0.,1.],[1.,0.],[1.,1.]])\n",
    "y = np.array([0,0,0,1])\n",
    "\n",
    "plt.plot(x,y)\n",
    "# plt.xlabel(\"x\")\n",
    "# plt.ylabel(\"y\")\n",
    "plt.show()\n"
   ]
  },
  {
   "cell_type": "code",
   "execution_count": null,
   "metadata": {},
   "outputs": [],
   "source": [
    "# 0到5之间每隔0.2取一个数\n",
    "t = np.arange(0., 1.1, 0.05)\n",
    "\n",
    "# 红色的破折号，蓝色的方块，绿色的三角形\n",
    "plt.plot( t, t, 'r--', t, t**2, 'bs', t, t**3, 'g*')\n",
    "plt.show()"
   ]
  },
  {
   "cell_type": "code",
   "execution_count": null,
   "metadata": {},
   "outputs": [],
   "source": [
    "import matplotlib.pyplot as plt\n",
    "import numpy as np\n",
    "\n",
    "# x = np.array([[np.arange(1.,10.,0.001)],[np.arange(1.,10.,0.001)]])\n",
    "y = np.arange(0.,1.,0.001)\n",
    "\n",
    "plt.plot(y,-y*y*y*y*y)\n",
    "# plt.xlabel(\"x\")\n",
    "# plt.ylabel(\"y\")\n",
    "plt.show()\n"
   ]
  },
  {
   "cell_type": "code",
   "execution_count": null,
   "metadata": {},
   "outputs": [],
   "source": [
    "from scipy.stats import multivariate_normal \n",
    "import numpy as np\n",
    "import matplotlib.pyplot as plt \n",
    "x, y = np.mgrid[-1:1:.01, -1:1:.01] \n",
    "pos = np.dstack((x, y)) \n",
    "fig = plt.figure(figsize=(4,4)) \n",
    "axes = fig.add_subplot(111) \n",
    "mu = [0.5, -0.2] # 均值 \n",
    "sigma = [[2.0, 0.3], [0.3, 0.5]] # 协方差矩阵 \n",
    "X = multivariate_normal(mu, sigma) \n",
    "axes.contourf(x, y, X.pdf(pos))\n"
   ]
  }
 ],
 "metadata": {
  "language_info": {
   "codemirror_mode": {
    "name": "ipython",
    "version": 3
   },
   "file_extension": ".py",
   "mimetype": "text/x-python",
   "name": "python",
   "nbconvert_exporter": "python",
   "pygments_lexer": "ipython3",
   "version": "3.7.7-final"
  },
  "orig_nbformat": 2,
  "kernelspec": {
   "name": "python37764bita92eb26ac8df40538fcf6f489f945e12",
   "display_name": "Python 3.7.7 64-bit"
  }
 },
 "nbformat": 4,
 "nbformat_minor": 2
}