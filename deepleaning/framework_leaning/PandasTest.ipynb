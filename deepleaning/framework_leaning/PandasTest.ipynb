{
 "nbformat": 4,
 "nbformat_minor": 2,
 "metadata": {
  "language_info": {
   "name": "python",
   "codemirror_mode": {
    "name": "ipython",
    "version": 3
   },
   "version": "3.7.7-final"
  },
  "orig_nbformat": 2,
  "file_extension": ".py",
  "mimetype": "text/x-python",
  "name": "python",
  "npconvert_exporter": "python",
  "pygments_lexer": "ipython3",
  "version": 3,
  "kernelspec": {
   "name": "python37764bita92eb26ac8df40538fcf6f489f945e12",
   "display_name": "Python 3.7.7 64-bit"
  }
 },
 "cells": [
  {
   "cell_type": "code",
   "execution_count": null,
   "metadata": {},
   "outputs": [],
   "source": [
    "import numpy as np\n",
    "import pandas as pd"
   ]
  },
  {
   "cell_type": "code",
   "execution_count": null,
   "metadata": {},
   "outputs": [],
   "source": [
    "csv=pd.read_csv(\"../data/telecom_churn.csv\",sep=',',header=0)\n",
    "# dir(csv)\n",
    "# dir(csv['Churn'])\n",
    "# csv.head() # 打印数据\n",
    "# csv.info() #打印列信息\n",
    "# csv.shape# 维度\n",
    "# csv.columns #打印列名\n",
    "# csv['Area code']=csv['Area code'].astype('float64') # 修改某列的类型\n",
    "# csv.describe() #基本统计学特性，如未缺失值的数值、均值、标准差、范围、四分位数等。\n",
    "# csv.describe(include=['object','bool']) #通过 include 参数显式指定包含的数据类型，可以查看非数值特征的统计数据。\n",
    "# csv['Churn'].value_counts()#对某列数据不同值统计\n",
    "# csv['Churn'].value_counts(normalize=True) #对某列数据不同值百分比统计\n",
    "# csv.sort_values(by=[\"Churn\",\"Total day charge\"],ascending=False).head() #对多列数据排序，ascending=False 倒序\n",
    "# csv.sort_index() \n",
    "# csv['Churn'].mean() #等价于 csv['Churn'].value_counts(normalize=True) #对某列数据不同值百分比统计\n",
    "# csv['Churn']==1\n",
    "# csv[csv['Churn']==1].mean()\n",
    "# csv[csv['Churn']==1]['Area code'].value_counts() \n",
    "# csv[csv['Churn']==1]['Area code'].mean() #提取Churn为True的行，再算剩下数据每列的均值\n",
    "# csv[(csv['Churn']==0)&(csv['International plan']=='No')]['Total intl minutes'].max()\n",
    "# csv.iloc[0:5,1:9] #通过数字切片\n",
    "# csv.loc[0:5,'State':'Area code']\n",
    "# csv.apply(np.max) #等价于 csv.max() apply函数接收一个函数\n",
    "# csv[csv['State'].apply(lambda s:s[0]==\"W\")].head()\n",
    ""
   ]
  },
  {
   "cell_type": "code",
   "execution_count": null,
   "metadata": {},
   "outputs": [],
   "source": [
    "# df=pd.DataFrame(csv)\n",
    "# print(df)\n",
    "# (415*236+510*125+408*122)/(236+125+122)"
   ]
  },
  {
   "cell_type": "code",
   "execution_count": null,
   "metadata": {},
   "outputs": [],
   "source": [
    "csv[csv['Churn'] == 1]['Total day minutes'].mean()"
   ]
  },
  {
   "cell_type": "code",
   "execution_count": null,
   "metadata": {},
   "outputs": [],
   "source": [
    "csv[csv['Churn']==1].mean()"
   ]
  },
  {
   "cell_type": "code",
   "execution_count": null,
   "metadata": {},
   "outputs": [],
   "source": []
  }
 ]
}