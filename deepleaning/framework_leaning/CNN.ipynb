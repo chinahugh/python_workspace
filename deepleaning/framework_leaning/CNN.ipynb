{
 "nbformat": 4,
 "nbformat_minor": 2,
 "metadata": {
  "language_info": {
   "name": "python",
   "codemirror_mode": {
    "name": "ipython",
    "version": 3
   },
   "version": "3.7.7-final"
  },
  "orig_nbformat": 2,
  "file_extension": ".py",
  "mimetype": "text/x-python",
  "name": "python",
  "npconvert_exporter": "python",
  "pygments_lexer": "ipython3",
  "version": 3,
  "kernelspec": {
   "name": "python37764bita92eb26ac8df40538fcf6f489f945e12",
   "display_name": "Python 3.7.7 64-bit"
  }
 },
 "cells": [
  {
   "cell_type": "code",
   "execution_count": 1,
   "metadata": {},
   "outputs": [],
   "source": [
    "import numpy as np\n",
    "import copy"
   ]
  },
  {
   "cell_type": "code",
   "execution_count": 3,
   "metadata": {},
   "outputs": [],
   "source": [
    "i2b = {}\n",
    "bdigit = 8\n",
    "MAXnumber = pow(2,bdigit)\n",
    "bin = np.unpackbits(np.array([range(MAXnumber)],dtype=np.uint8).T,axis=1)\n",
    "for i in range(MAXnumber):\n",
    "    i2b[i] = bin[i]\n",
    "def sigmoid(x):\n",
    "    y = 1/(1+np.exp(-x))\n",
    "    return y\n",
    "def dersigmoid(x):\n",
    "    y = x*(1-x)\n",
    "    return y\n",
    "step = 0.1\n",
    "ipnumber = 2\n",
    "hdnumber = 32\n",
    "opnumber = 2\n",
    "\n",
    "neu_i2h = 2*np.random.random((ipnumber,hdnumber)) - 1\n",
    "neu_h2o = 2*np.random.random((hdnumber,opnumber)) - 1\n",
    "neu_h2h = 2*np.random.random((hdnumber,hdnumber)) - 1\n",
    "\n",
    "neu_i2hN = np.zeros_like(neu_i2h)\n",
    "neu_h2oN = np.zeros_like(neu_h2o)\n",
    "neu_h2hN = np.zeros_like(neu_h2h)"
   ]
  },
  {
   "cell_type": "code",
   "execution_count": 4,
   "metadata": {},
   "outputs": [],
   "source": [
    "for j in range(200):\n",
    "    a_decimal = np.random.randint(MAXnumber / 2)\n",
    "    b_decimal = np.random.randint(MAXnumber / 2)\n",
    "    c_decimal = a_decimal + b_decimal\n",
    "    a = i2b[a_decimal]\n",
    "    b = i2b[b_decimal]\n",
    "    c = i2b[c_decimal]\n",
    "    binary = np.zeros_like(c)\n",
    "    aError = 0\n",
    "    oplayer_der = list()\n",
    "    hdlayer_val = list()\n",
    "    hdlayer_val.append(np.zeros(hdnumber))\n",
    "\n",
    "    for locate in range(bdigit):\n",
    "        X = np.array([[a[bdigit - locate - 1], b[bdigit - locate - 1]]])\n",
    "        Y = np.array([[c[bdigit - locate - 1]]]).T\n",
    "        hdlayer = sigmoid(np.dot(X, neu_i2h) +\n",
    "                          np.dot(hdlayer_val[-1], neu_h2h))\n",
    "        oplayer = sigmoid(np.dot(hdlayer, neu_h2o))\n",
    "        oplayer_error = Y - oplayer\n",
    "        oplayer_der.append((oplayer_error)*dersigmoid(oplayer))\n",
    "        aError += np.abs(oplayer_error[0])\n",
    "\n",
    "        binary[bdigit - locate - 1] = np.round(oplayer[0][0])\n",
    "\n",
    "        hdlayer_val.append(copy.deepcopy(hdlayer))\n",
    "\n",
    "    Fhdlayer_dels = np.zeros(hdnumber)\n",
    "    for locate in range(bdigit):\n",
    "        X = np.array([[a[locate], b[locate]]])\n",
    "        hdlayer = hdlayer_val[-locate-1]\n",
    "        hdlayer_pre = hdlayer_val[-locate-2]\n",
    "\n",
    "        oplayer_dels = oplayer_der[-locate-1]\n",
    "        hdlayer_dels = (Fhdlayer_dels.dot(neu_h2h.T) +\n",
    "                        oplayer_dels.dot(neu_h2o.T)) * dersigmoid(hdlayer)\n",
    "\n",
    "        neu_h2oN += np.atleast_2d(hdlayer).T.dot(oplayer_dels)\n",
    "        neu_h2hN += np.atleast_2d(hdlayer_pre).T.dot(hdlayer_dels)\n",
    "        neu_i2hN += X.T.dot(hdlayer_dels)\n",
    "        Fhdlayer_dels = hdlayer_dels\n",
    "\n",
    "    neu_i2h += neu_i2hN * step\n",
    "    neu_h2o += neu_h2oN * step\n",
    "    neu_h2h += neu_h2hN * step\n",
    "\n",
    "    neu_i2hN *= 0\n",
    "    neu_h2oN *= 0\n",
    "    neu_h2hN *= 0"
   ]
  },
  {
   "cell_type": "code",
   "execution_count": 5,
   "metadata": {},
   "outputs": [
    {
     "output_type": "stream",
     "name": "stdout",
     "text": "Error:[3.984582   4.28052841]\nPredicted:[0 0 0 0 0 0 0 0]\nTrue:[0 1 1 0 0 0 1 1]\n71 + 28 = 0\n"
    }
   ],
   "source": [
    "print(\"Error:\" + str(aError))\n",
    "print(\"Predicted:\" + str(binary))\n",
    "print(\"True:\" + str(c))\n",
    "value = 0\n",
    "for index, x in enumerate(reversed(binary)):\n",
    "    value += x*pow(2, index)\n",
    "print(str(a_decimal) + \" + \" + str(b_decimal) + \" = \" + str(value))"
   ]
  },
  {
   "cell_type": "code",
   "execution_count": null,
   "metadata": {},
   "outputs": [],
   "source": []
  }
 ]
}