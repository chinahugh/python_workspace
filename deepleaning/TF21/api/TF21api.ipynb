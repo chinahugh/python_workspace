{
 "nbformat": 4,
 "nbformat_minor": 2,
 "metadata": {
  "language_info": {
   "name": "python",
   "codemirror_mode": {
    "name": "ipython",
    "version": 3
   },
   "version": "3.7.7-final"
  },
  "orig_nbformat": 2,
  "file_extension": ".py",
  "mimetype": "text/x-python",
  "name": "python",
  "npconvert_exporter": "python",
  "pygments_lexer": "ipython3",
  "version": 3,
  "kernelspec": {
   "name": "python37764bita92eb26ac8df40538fcf6f489f945e12",
   "display_name": "Python 3.7.7 64-bit"
  }
 },
 "cells": [
  {
   "cell_type": "code",
   "execution_count": null,
   "metadata": {},
   "outputs": [],
   "source": [
    "import tensorflow as tf"
   ]
  },
  {
   "cell_type": "code",
   "execution_count": null,
   "metadata": {},
   "outputs": [],
   "source": [
    "b=tf.constant([2],dtype=tf.float32)\n",
    "print(b)"
   ]
  },
  {
   "cell_type": "code",
   "execution_count": null,
   "metadata": {},
   "outputs": [],
   "source": [
    "a = tf.constant([1, 5], dtype=tf.int64)\n",
    "print(\"a:\", a)\n",
    "print(\"a.dtype:\", a.dtype)\n",
    "print(\"a.shape:\", a.shape)"
   ]
  },
  {
   "cell_type": "code",
   "execution_count": null,
   "metadata": {},
   "outputs": [],
   "source": [
    "zeros=tf.zeros([2,5])\n",
    "print(zeros)"
   ]
  },
  {
   "cell_type": "code",
   "execution_count": null,
   "metadata": {},
   "outputs": [],
   "source": [
    "tf.ones([2,4])"
   ]
  },
  {
   "cell_type": "code",
   "execution_count": null,
   "metadata": {},
   "outputs": [],
   "source": [
    "fill=tf.fill([2,2,4],10)\n",
    "fill"
   ]
  },
  {
   "cell_type": "code",
   "execution_count": null,
   "metadata": {},
   "outputs": [],
   "source": [
    "d=tf.random.normal([3,2],mean=2,stddev=1)\n",
    "print(d)\n",
    "e=tf.random.truncated_normal([3,2],mean=2,stddev=1)\n",
    "print(e)\n",
    "f=tf.random.uniform([2,1],maxval=10,minval=1)\n",
    "print(f)"
   ]
  },
  {
   "cell_type": "code",
   "execution_count": null,
   "metadata": {},
   "outputs": [],
   "source": [
    "print(tf.reduce_max(d))\n",
    "print(tf.reduce_max(d,axis=0))\n",
    "print(tf.reduce_max(d,axis=1))\n",
    ""
   ]
  },
  {
   "cell_type": "code",
   "execution_count": null,
   "metadata": {},
   "outputs": [],
   "source": [
    "a1=tf.constant([[1,2],[1,2]],dtype=tf.float32)\n",
    "a2=tf.constant([[1,3],[1,3]],dtype=tf.float32)\n",
    "print(a1)\n",
    "print(a2)\n",
    "a3=tf.multiply(a1,a2)\n",
    "a4=tf.matmul(a1,a2)\n",
    "print(a3)\n",
    "print(a4)"
   ]
  },
  {
   "cell_type": "code",
   "execution_count": null,
   "metadata": {},
   "outputs": [],
   "source": [
    "feautres=tf.constant([1,2,4,6,10],dtype=tf.float32) #值\n",
    "labels=tf.constant([0,1,1,1,0],dtype=tf.int8) # 标签\n",
    "datamap=tf.data.Dataset.from_tensor_slices((feautres,labels)) #值与标签配对\n",
    "print(datamap)\n",
    "for e in datamap:\n",
    "    print(e)"
   ]
  },
  {
   "cell_type": "code",
   "execution_count": null,
   "metadata": {},
   "outputs": [],
   "source": [
    "with tf.GradientTape() as  tape:\n",
    "    w=tf.Variable(tf.constant(3,dtype=tf.float32))\n",
    "    loss=tf.pow(w+w,2)\n",
    "    print(loss)\n",
    "grad=tape.gradient(loss,w)\n",
    "print(grad)"
   ]
  },
  {
   "cell_type": "code",
   "execution_count": null,
   "metadata": {},
   "outputs": [],
   "source": [
    "classes = 3\n",
    "labelss = tf.constant([1, 0, 2]) \n",
    "print(labelss)\n",
    "output = tf.one_hot(labelss,depth=classes)\n",
    "print(output)"
   ]
  },
  {
   "cell_type": "code",
   "execution_count": null,
   "metadata": {},
   "outputs": [],
   "source": [
    "print(d)\n",
    "print(tf.argmax(d))\n",
    "print(tf.argmax(d,axis=0))\n",
    "print(tf.argmax(d,axis=1))"
   ]
  },
  {
   "cell_type": "code",
   "execution_count": null,
   "metadata": {},
   "outputs": [],
   "source": [
    "w = tf.Variable(tf.random.truncated_normal([3],stddev=4))\n",
    "print(w)\n",
    "w.assign_sub([1.0,1.,1.])\n",
    "w.assign_sub([1.0,1.,1.])\n",
    "print(w)"
   ]
  },
  {
   "cell_type": "code",
   "execution_count": null,
   "metadata": {},
   "outputs": [],
   "source": []
  },
  {
   "cell_type": "code",
   "execution_count": null,
   "metadata": {},
   "outputs": [],
   "source": []
  }
 ]
}